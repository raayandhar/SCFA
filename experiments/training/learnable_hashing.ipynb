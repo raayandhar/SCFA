{
 "cells": [
  {
   "cell_type": "markdown",
   "metadata": {},
   "source": [
    "## What if we make the random projection hashable?\n",
    "\n",
    "Inspired by [HashAttention: Semantic Sparsity for Faster Inference](https://arxiv.org/pdf/2412.14468) by Aditya Desai et al.\n",
    "### Random hashing:\n",
    "\n",
    "We hash $Q$ and $K$ into $B$ buckets by using a random matrix $R \\in \\mathbb{R}^{d \\times b/2}$ and taking $\\argmax([xR; −xR])$. As per the Johnson-Lindenstrauss lemma, this maps $Q$ and $K$ into a $b/2$-dimensional space in a relative-distance preserving way.\n",
    "\n",
    "Effectively, our vector $\\vec{x} \\in \\mathbb{R}^d$ is projected to hash vector $\\vec{x}_h \\in \\mathbb{R}^{b/2}$, and we take its dimension with the largest component as the hash index.\n",
    "\n",
    "### Learnable hashing:\n",
    "\n",
    "The model can learn its own hash functions that cluster together attendant queries/keys based on semantic similarity rather than vector distance (e.g this does processing work). We want to encourage two things:\n",
    "1. Downstream performance\n",
    "2. Balancing loss (to prevent degenerate solutions where all q/ks are mapped to the same hash index):\n",
    "    - Entropy regularization?\n",
    "    - Regularization on projection matrix (L1) to prevent one dim from dominating?"
   ]
  },
  {
   "cell_type": "code",
   "execution_count": null,
   "metadata": {},
   "outputs": [],
   "source": [
    "import torch\n",
    "from torch.nn import functional as F\n",
    "from transformers import AutoTokenizer, AutoModelForCausalLM\n",
    "\n",
    "model_name = \"meta-llama/Llama-3.2-1B-Instruct\"\n",
    "\n",
    "tokenizer = AutoTokenizer.from_pretrained(model_name)\n",
    "model = AutoModelForCausalLM.from_pretrained(model_name,\n",
    "                                             torch_dtype=torch.bfloat16,\n",
    "                                             device_map=\"cuda:2\")"
   ]
  },
  {
   "cell_type": "code",
   "execution_count": 1,
   "metadata": {},
   "outputs": [],
   "source": [
    "class LearnableHash(nn.Module):\n",
    "    def __init__(self, D: int, num_buckets: int, device: torch.device = \"cpu\", dtype: torch.dtype = torch.bfloat16):\n",
    "        super().__init__()\n",
    "        self.D = D\n",
    "        self.num_buckets = num_buckets\n",
    "        self.device = device\n",
    "        self.dtype = dtype\n",
    "        self.R = nn.Parameter(torch.randn(D, num_buckets // 2, device = device, dtype = dtype), requires_grad = True)\n",
    "\n",
    "    def forward(self, x: torch.Tensor, tau: float = 1.0) -> torch.Tensor:\n",
    "        proj = torch.matmul(x, self.R)\n",
    "        logits = torch.cat([proj, -proj], dim=-1)\n",
    "        one_hot = F.gumbel_softmax(logits, tau = tau, hard = True)\n",
    "        return torch.argmax(one_hot, dim=-1)"
   ]
  },
  {
   "cell_type": "markdown",
   "metadata": {},
   "source": [
    "### Experiment 1: Learnable Hashing, no balancing loss"
   ]
  },
  {
   "cell_type": "code",
   "execution_count": null,
   "metadata": {},
   "outputs": [],
   "source": [
    "from torch import nn\n",
    "from transformers.models.llama.modeling_llama import LlamaAttention, LlamaConfig, Cache, FlashAttentionKwargs, apply_rotary_pos_emb, repeat_kv\n",
    "from typing import Tuple, Optional, Unpack\n",
    "from tqdm import tqdm\n",
    "from copy import deepcopy\n",
    "from source.scfa_paper.scfa_wrapper import hash_sparse_attention\n",
    "\n",
    "def scfa_hash_attn(q, k, v, num_buckets: int, sm_scale: float = 1.0, vector_hash: nn.Module = None):\n",
    "    \"\"\"\n",
    "    q: (B, H, N, D)\n",
    "    k: (B, H, N, D)\n",
    "    v: (B, H, N, D)\n",
    "    \"\"\"\n",
    "    B, H, N, D = q.shape\n",
    "    assert num_buckets % 2 == 0, \"num_buckets must be even\"\n",
    "    q_hashes = vector_hash.forward(q).to(torch.int32).transpose(1, 2).contiguous() # (B, N, H)\n",
    "    k_hashes = vector_hash.forward(k).to(torch.int32).transpose(1, 2).contiguous() # (B, N, H)\n",
    "    assert q_hashes.max() < num_buckets, \"q_hashes must be less than num_buckets\"\n",
    "    assert k_hashes.max() < num_buckets, \"k_hashes must be less than num_buckets\"\n",
    "    assert q_hashes.min() >= 0, \"q_hashes must be non-negative\"\n",
    "    assert k_hashes.min() >= 0, \"k_hashes must be non-negative\"\n",
    "    scfa_q = q.transpose(1, 2).contiguous() # (B, N, H, D)\n",
    "    scfa_k = k.transpose(1, 2).contiguous() # (B, N, H, D)\n",
    "    scfa_v = v.transpose(1, 2).contiguous() # (B, N, H, D)\n",
    "    return hash_sparse_attention(scfa_q, scfa_k, scfa_v, q_hashes, k_hashes, sm_scale).transpose(1, 2).contiguous()\n",
    "\n",
    "class HashAttention(LlamaAttention):\n",
    "    def __init__(self, config: LlamaConfig, layer_idx: int, num_buckets: int, device):\n",
    "        super().__init__(config, layer_idx)\n",
    "        self.vector_hash = LearnableHash(D = self.head_dim, num_buckets = num_buckets, device = device)\n",
    "        self.num_buckets = num_buckets\n",
    "\n",
    "    def forward(\n",
    "        self,\n",
    "        hidden_states: torch.Tensor, # (batch_size, seq_len, hidden_size)\n",
    "        position_embeddings: Tuple[torch.Tensor, torch.Tensor],\n",
    "        attention_mask: Optional[torch.Tensor],\n",
    "        past_key_value: Optional[Cache] = None,\n",
    "        cache_position: Optional[torch.LongTensor] = None,\n",
    "        **kwargs: Unpack[FlashAttentionKwargs],\n",
    "    ) -> Tuple[torch.Tensor, Optional[torch.Tensor], Optional[Tuple[torch.Tensor]]]:\n",
    "        input_shape = hidden_states.shape[:-1]\n",
    "        hidden_shape = (*input_shape, -1, self.head_dim)\n",
    "\n",
    "        query_states = self.q_proj(hidden_states).view(hidden_shape).transpose(1, 2)\n",
    "        key_states = self.k_proj(hidden_states).view(hidden_shape).transpose(1, 2)\n",
    "        value_states = self.v_proj(hidden_states).view(hidden_shape).transpose(1, 2)\n",
    "\n",
    "        cos, sin = position_embeddings\n",
    "        query_states, key_states = apply_rotary_pos_emb(query_states, key_states, cos, sin)\n",
    "\n",
    "        \"\"\"\n",
    "        Shapes:\n",
    "        query_states: (batch_size, num_heads, seq_len, head_dim)\n",
    "        key_states: (batch_size, num_heads, seq_len, head_dim)\n",
    "        value_states: (batch_size, num_heads, seq_len, head_dim)\n",
    "        \"\"\"\n",
    "\n",
    "        try:\n",
    "            if past_key_value is not None:\n",
    "                # sin and cos are specific to RoPE models; cache_position needed for the static cache\n",
    "                cache_kwargs = {\"sin\": sin, \"cos\": cos, \"cache_position\": cache_position}\n",
    "                key_states, value_states = past_key_value.update(key_states, value_states, self.layer_idx, cache_kwargs)\n",
    "\n",
    "            attn_output = scfa_hash_attn(\n",
    "                q = query_states,\n",
    "                k = repeat_kv(key_states, self.num_key_value_groups),\n",
    "                v = repeat_kv(value_states, self.num_key_value_groups),\n",
    "                num_buckets = self.num_buckets,\n",
    "                sm_scale = self.scaling,\n",
    "                vector_hash = self.vector_hash,\n",
    "            )\n",
    "\n",
    "            attn_output = attn_output.reshape(*input_shape, -1).contiguous()\n",
    "            attn_output = self.o_proj(attn_output)\n",
    "        \n",
    "        except Exception as e:\n",
    "            print(query_states.shape, self.num_buckets)\n",
    "            print(e)\n",
    "        \n",
    "        return attn_output, None\n",
    "    \n",
    "# Monkeypatch time\n",
    "def monkeypatch(model, num_buckets: int, one_at_a_time: bool = False):\n",
    "    n_modules_to_replace = len(list(filter(lambda x: isinstance(x, LlamaAttention), model.modules())))\n",
    "    pbar = tqdm(total = n_modules_to_replace, desc = \"Replacing attention modules\")\n",
    "    if one_at_a_time:\n",
    "        pbar.disable = True    \n",
    "    for name, module in model.named_modules():\n",
    "        if isinstance(module, LlamaAttention):\n",
    "            # Construct new module\n",
    "            new_attn_module = HashAttention(config = module.config, layer_idx = module.layer_idx, num_buckets = num_buckets, device = model.device)\n",
    "            new_attn_module.load_state_dict(module.state_dict(), strict = False) # random hash matrices are newly initialized\n",
    "            new_attn_module.to(model.device).to(torch.bfloat16)\n",
    "\n",
    "            # Split full name to find parent module\n",
    "            parent_module = model\n",
    "            parent_name_parts = name.split('.')\n",
    "            child_name = parent_name_parts[-1]\n",
    "\n",
    "            if len(parent_name_parts) > 1:\n",
    "                for part in parent_name_parts[:-1]:\n",
    "                    if part.isdigit(): # Handles modules in nn.Sequential or nn.ModuleList\n",
    "                        parent_module = parent_module[int(part)]\n",
    "                    else:\n",
    "                        parent_module = getattr(parent_module, part)\n",
    "\n",
    "            setattr(parent_module, child_name, new_attn_module)\n",
    "            if one_at_a_time:\n",
    "                return\n",
    "            pbar.update(1)"
   ]
  },
  {
   "cell_type": "code",
   "execution_count": 5,
   "metadata": {},
   "outputs": [
    {
     "data": {
      "application/vnd.jupyter.widget-view+json": {
       "model_id": "cd706173055f4d67a5ed797de95ab8f0",
       "version_major": 2,
       "version_minor": 0
      },
      "text/plain": [
       "Resolving data files:   0%|          | 0/25868 [00:00<?, ?it/s]"
      ]
     },
     "metadata": {},
     "output_type": "display_data"
    },
    {
     "name": "stdout",
     "output_type": "stream",
     "text": [
      "16 LlamaAttention modules remaining\n"
     ]
    },
    {
     "name": "stderr",
     "output_type": "stream",
     "text": [
      "Training - Loss: 4.3298, PPL: 94.00: 100%|██████████| 1000/1000.0 [00:54<00:00, 18.44it/s]\n"
     ]
    },
    {
     "name": "stdout",
     "output_type": "stream",
     "text": [
      "15 LlamaAttention modules remaining\n"
     ]
    },
    {
     "name": "stderr",
     "output_type": "stream",
     "text": [
      "Training - Loss: 3.9514, PPL: 70.14: 100%|██████████| 1000/1000.0 [00:53<00:00, 18.64it/s]\n"
     ]
    },
    {
     "name": "stdout",
     "output_type": "stream",
     "text": [
      "14 LlamaAttention modules remaining\n"
     ]
    },
    {
     "name": "stderr",
     "output_type": "stream",
     "text": [
      "Training - Loss: 3.8711, PPL: 53.32: 100%|██████████| 1000/1000.0 [00:54<00:00, 18.50it/s]\n"
     ]
    },
    {
     "name": "stdout",
     "output_type": "stream",
     "text": [
      "13 LlamaAttention modules remaining\n"
     ]
    },
    {
     "name": "stderr",
     "output_type": "stream",
     "text": [
      "Training - Loss: 3.6904, PPL: 49.49: 100%|██████████| 1000/1000.0 [00:54<00:00, 18.43it/s]\n"
     ]
    },
    {
     "name": "stdout",
     "output_type": "stream",
     "text": [
      "12 LlamaAttention modules remaining\n"
     ]
    },
    {
     "name": "stderr",
     "output_type": "stream",
     "text": [
      "Training - Loss: 3.5899, PPL: 43.79: 100%|██████████| 1000/1000.0 [00:55<00:00, 17.96it/s]\n"
     ]
    },
    {
     "name": "stdout",
     "output_type": "stream",
     "text": [
      "11 LlamaAttention modules remaining\n"
     ]
    },
    {
     "name": "stderr",
     "output_type": "stream",
     "text": [
      "Training - Loss: 3.5997, PPL: 40.12: 100%|██████████| 1000/1000.0 [00:55<00:00, 17.98it/s]\n"
     ]
    },
    {
     "name": "stdout",
     "output_type": "stream",
     "text": [
      "10 LlamaAttention modules remaining\n"
     ]
    },
    {
     "name": "stderr",
     "output_type": "stream",
     "text": [
      "Training - Loss: 3.5356, PPL: 42.00: 100%|██████████| 1000/1000.0 [00:54<00:00, 18.32it/s]\n"
     ]
    },
    {
     "name": "stdout",
     "output_type": "stream",
     "text": [
      "9 LlamaAttention modules remaining\n"
     ]
    },
    {
     "name": "stderr",
     "output_type": "stream",
     "text": [
      "Training - Loss: 3.5259, PPL: 39.82: 100%|██████████| 1000/1000.0 [00:53<00:00, 18.72it/s]\n"
     ]
    },
    {
     "name": "stdout",
     "output_type": "stream",
     "text": [
      "8 LlamaAttention modules remaining\n"
     ]
    },
    {
     "name": "stderr",
     "output_type": "stream",
     "text": [
      "Training - Loss: 3.6034, PPL: 42.07: 100%|██████████| 1000/1000.0 [00:54<00:00, 18.26it/s]\n"
     ]
    },
    {
     "name": "stdout",
     "output_type": "stream",
     "text": [
      "7 LlamaAttention modules remaining\n"
     ]
    },
    {
     "name": "stderr",
     "output_type": "stream",
     "text": [
      "Training - Loss: 3.5802, PPL: 44.42: 100%|██████████| 1000/1000.0 [00:55<00:00, 17.99it/s]\n"
     ]
    },
    {
     "name": "stdout",
     "output_type": "stream",
     "text": [
      "6 LlamaAttention modules remaining\n"
     ]
    },
    {
     "name": "stderr",
     "output_type": "stream",
     "text": [
      "Training - Loss: 3.4661, PPL: 36.47: 100%|██████████| 1000/1000.0 [00:58<00:00, 17.21it/s]\n"
     ]
    },
    {
     "name": "stdout",
     "output_type": "stream",
     "text": [
      "5 LlamaAttention modules remaining\n"
     ]
    },
    {
     "name": "stderr",
     "output_type": "stream",
     "text": [
      "Training - Loss: 3.5791, PPL: 42.09: 100%|██████████| 1000/1000.0 [00:56<00:00, 17.60it/s]\n"
     ]
    },
    {
     "name": "stdout",
     "output_type": "stream",
     "text": [
      "4 LlamaAttention modules remaining\n"
     ]
    },
    {
     "name": "stderr",
     "output_type": "stream",
     "text": [
      "Training - Loss: 3.5560, PPL: 42.68: 100%|██████████| 1000/1000.0 [00:59<00:00, 16.85it/s]\n"
     ]
    },
    {
     "name": "stdout",
     "output_type": "stream",
     "text": [
      "3 LlamaAttention modules remaining\n"
     ]
    },
    {
     "name": "stderr",
     "output_type": "stream",
     "text": [
      "Training - Loss: 3.4123, PPL: 35.73: 100%|██████████| 1000/1000.0 [00:59<00:00, 16.76it/s]\n"
     ]
    },
    {
     "name": "stdout",
     "output_type": "stream",
     "text": [
      "2 LlamaAttention modules remaining\n"
     ]
    },
    {
     "name": "stderr",
     "output_type": "stream",
     "text": [
      "Training - Loss: 3.5928, PPL: 45.91: 100%|██████████| 1000/1000.0 [00:59<00:00, 16.82it/s]\n"
     ]
    },
    {
     "name": "stdout",
     "output_type": "stream",
     "text": [
      "1 LlamaAttention modules remaining\n"
     ]
    },
    {
     "name": "stderr",
     "output_type": "stream",
     "text": [
      "Training - Loss: 3.4820, PPL: 38.59: 100%|██████████| 1000/1000.0 [01:00<00:00, 16.63it/s]\n"
     ]
    }
   ],
   "source": [
    "import datasets\n",
    "\n",
    "fineweb_dataset = datasets.load_dataset(\"HuggingFaceFW/fineweb\", \"sample-10BT\", split=\"train\", streaming=True)\n",
    "hash_model = deepcopy(model).to(model.device)\n",
    "NUM_BUCKETS = 8\n",
    "tokenizer.pad_token = tokenizer.eos_token\n",
    "\n",
    "total_steps_processed = 0\n",
    "n_modules_to_replace = len(list(filter(lambda x: isinstance(x, LlamaAttention), hash_model.modules())))\n",
    "while n_modules_to_replace > 0:\n",
    "    print(f\"{n_modules_to_replace} LlamaAttention modules remaining\")\n",
    "    # Patch llama attention modules into hash attention modules, one at a time\n",
    "    monkeypatch(hash_model, NUM_BUCKETS, one_at_a_time = True)\n",
    "    n_modules_to_replace -= 1\n",
    "    hash_model.train()\n",
    "\n",
    "    # Freeze all but the hash attention modules\n",
    "    for p in hash_model.parameters():\n",
    "        p.requires_grad = False\n",
    "    for name, module in hash_model.named_modules():\n",
    "        if isinstance(module, HashAttention):\n",
    "            for param in module.parameters():\n",
    "                param.requires_grad = True\n",
    "\n",
    "    optimizer = torch.optim.AdamW(hash_model.parameters(), lr=1e-5)\n",
    "    hash_model.train()\n",
    "\n",
    "    # Training loop parameters\n",
    "    num_steps = 1e3\n",
    "    max_length = 512\n",
    "    ema_alpha = 0.05  # EMA smoothing factor\n",
    "\n",
    "    step = 0\n",
    "    ema_loss = None\n",
    "    ema_perplexity = None\n",
    "\n",
    "    # Use streaming dataset with tqdm\n",
    "    with tqdm(total=num_steps, desc=\"Training\") as pbar:\n",
    "        for example in fineweb_dataset:\n",
    "            if step >= num_steps:\n",
    "                total_steps_processed += step\n",
    "                fineweb_dataset = fineweb_dataset.skip(total_steps_processed) # continue from where we left off\n",
    "                break\n",
    "                \n",
    "            text = example['text']\n",
    "            inputs = tokenizer(text, return_tensors=\"pt\", max_length=max_length, \n",
    "                            truncation=True, padding=True)\n",
    "            inputs = {k: v.to(hash_model.device) for k, v in inputs.items()}\n",
    "            \n",
    "            # Forward pass\n",
    "            outputs = hash_model(**inputs, labels=inputs['input_ids'])\n",
    "            loss = outputs.loss\n",
    "            perplexity = torch.exp(loss).item()\n",
    "            \n",
    "            # Backward pass\n",
    "            optimizer.zero_grad()\n",
    "            loss.backward()\n",
    "            optimizer.step()\n",
    "            \n",
    "            # Update EMA metrics\n",
    "            current_loss = loss.item()\n",
    "            if ema_loss is None:\n",
    "                ema_loss = current_loss\n",
    "                ema_perplexity = perplexity\n",
    "            else:\n",
    "                ema_loss = ema_alpha * current_loss + (1 - ema_alpha) * ema_loss\n",
    "                ema_perplexity = ema_alpha * perplexity + (1 - ema_alpha) * ema_perplexity\n",
    "            \n",
    "            step += 1\n",
    "            \n",
    "            # Update pbar\n",
    "            pbar.set_description(f\"Training - Loss: {ema_loss:.4f}, PPL: {ema_perplexity:.2f}\")\n",
    "            pbar.update(1)"
   ]
  },
  {
   "cell_type": "code",
   "execution_count": 6,
   "metadata": {},
   "outputs": [
    {
     "data": {
      "application/vnd.jupyter.widget-view+json": {
       "model_id": "8132529f3aa54df38a8e9eda529b8233",
       "version_major": 2,
       "version_minor": 0
      },
      "text/plain": [
       "Resolving data files:   0%|          | 0/25868 [00:00<?, ?it/s]"
      ]
     },
     "metadata": {},
     "output_type": "display_data"
    },
    {
     "name": "stdout",
     "output_type": "stream",
     "text": [
      "Computing KL divergences between flash and hash attention models...\n"
     ]
    },
    {
     "name": "stderr",
     "output_type": "stream",
     "text": [
      "100%|██████████| 1000/1000 [00:46<00:00, 21.65it/s]\n"
     ]
    },
    {
     "data": {
      "image/png": "[encoded data removed]",
      "text/plain": [
       "<Figure size 640x480 with 1 Axes>"
      ]
     },
     "metadata": {},
     "output_type": "display_data"
    }
   ],
   "source": [
    "import datasets\n",
    "import numpy as np\n",
    "import seaborn as sns\n",
    "import matplotlib.pyplot as plt\n",
    "from tqdm import tqdm\n",
    "\n",
    "# Load a slice of the FineWeb dataset\n",
    "fineweb_dataset = datasets.load_dataset(\"HuggingFaceFW/fineweb\", \"sample-10BT\", split=\"train\", streaming=True)\n",
    "fineweb_sample = fineweb_dataset.take(1000) \n",
    "tokenizer.pad_token = tokenizer.eos_token\n",
    "\n",
    "# Function to compute KL divergence between original and hash model\n",
    "def compute_fineweb_metrics(original_model, hash_model, tokenizer, texts, max_length=512):\n",
    "    import torch.nn.functional as F\n",
    "    \n",
    "    kl_divergences = []\n",
    "    original_perplexities = []\n",
    "    hash_perplexities = []\n",
    "    \n",
    "    for text in tqdm(texts):\n",
    "        # Tokenize the text\n",
    "        inputs = tokenizer(text, return_tensors=\"pt\", max_length=max_length, truncation=True, padding=True)\n",
    "        inputs = {k: v.to(original_model.device) for k, v in inputs.items()}\n",
    "        \n",
    "        with torch.no_grad():\n",
    "            # Get logits from both models\n",
    "            original_outputs = original_model(**inputs)\n",
    "            hash_outputs = hash_model(**inputs)\n",
    "            \n",
    "            original_logits = original_outputs.logits\n",
    "            hash_logits = hash_outputs.logits\n",
    "            \n",
    "            # Convert to probabilities\n",
    "            original_probs = F.softmax(original_logits, dim=-1)\n",
    "            hash_probs = F.softmax(hash_logits, dim=-1)\n",
    "            \n",
    "            # Compute KL divergence: KL(original || hash)\n",
    "            kl_div = F.kl_div(hash_probs.log(), original_probs, reduction='batchmean')\n",
    "            kl_divergences.append(kl_div.item())\n",
    "            \n",
    "            # Compute perplexities\n",
    "            # Shift logits and labels for next token prediction\n",
    "            shift_logits_original = original_logits[..., :-1, :].contiguous()\n",
    "            shift_logits_hash = hash_logits[..., :-1, :].contiguous()\n",
    "            shift_labels = inputs['input_ids'][..., 1:].contiguous()\n",
    "            \n",
    "            # Compute cross entropy loss\n",
    "            original_loss = F.cross_entropy(shift_logits_original.view(-1, shift_logits_original.size(-1)), \n",
    "                                          shift_labels.view(-1), reduction='mean')\n",
    "            hash_loss = F.cross_entropy(shift_logits_hash.view(-1, shift_logits_hash.size(-1)), \n",
    "                                      shift_labels.view(-1), reduction='mean')\n",
    "            \n",
    "            # Convert loss to perplexity\n",
    "            original_perplexity = torch.exp(original_loss).item()\n",
    "            hash_perplexity = torch.exp(hash_loss).item()\n",
    "            \n",
    "            original_perplexities.append(original_perplexity)\n",
    "            hash_perplexities.append(hash_perplexity)\n",
    "    \n",
    "    return {\n",
    "        'kl_divergences': kl_divergences,\n",
    "        'original_perplexities': original_perplexities,\n",
    "        'hash_perplexities': hash_perplexities\n",
    "    }\n",
    "# Extract texts from the dataset\n",
    "texts = [sample['text'] for sample in fineweb_sample]\n",
    "\n",
    "print(\"Computing KL divergences between flash and hash attention models...\")\n",
    "kl_divs = compute_fineweb_metrics(model, hash_model, tokenizer, texts)\n",
    "\n",
    "# Create the bar plot\n",
    "ax = sns.barplot(x=[\"KL Divergence\", \"Original Perplexity\", \"Hash Perplexity\"], \n",
    "                 y=[np.mean(kl_divs['kl_divergences']), \n",
    "                    np.mean(kl_divs['original_perplexities']), \n",
    "                    np.mean(kl_divs['hash_perplexities'])])\n",
    "\n",
    "# Add value labels on top of each bar\n",
    "for i, v in enumerate([np.mean(kl_divs['kl_divergences']), \n",
    "                       np.mean(kl_divs['original_perplexities']), \n",
    "                       np.mean(kl_divs['hash_perplexities'])]):\n",
    "    ax.text(i, v + v*0.01, f'{v:.2f}', ha='center', va='bottom')\n",
    "\n",
    "plt.title('Comparison of KL Divergence and Perplexities')\n",
    "plt.show()"
   ]
  },
  {
   "cell_type": "code",
   "execution_count": 7,
   "metadata": {},
   "outputs": [
    {
     "data": {
      "text/plain": [
       "('checkpoints/hash_model_learnable/tokenizer_config.json',\n",
       " 'checkpoints/hash_model_learnable/special_tokens_map.json',\n",
       " 'checkpoints/hash_model_learnable/chat_template.jinja',\n",
       " 'checkpoints/hash_model_learnable/tokenizer.json')"
      ]
     },
     "execution_count": 7,
     "metadata": {},
     "output_type": "execute_result"
    }
   ],
   "source": [
    "hash_model.save_pretrained(\"checkpoints/hash_model_learnable\")\n",
    "tokenizer.save_pretrained(\"checkpoints/hash_model_learnable\")"
   ]
  },
  {
   "cell_type": "code",
   "execution_count": 8,
   "metadata": {},
   "outputs": [
    {
     "name": "stderr",
     "output_type": "stream",
     "text": [
      "huggingface/tokenizers: The current process just got forked, after parallelism has already been used. Disabling parallelism to avoid deadlocks...\n",
      "To disable this warning, you can either:\n",
      "\t- Avoid using `tokenizers` before the fork if possible\n",
      "\t- Explicitly set the environment variable TOKENIZERS_PARALLELISM=(true | false)\n"
     ]
    },
    {
     "name": "stdout",
     "output_type": "stream",
     "text": [
      "\u001b[34m\u001b[1mwandb\u001b[0m: Currently logged in as: \u001b[33mwz-ml\u001b[0m (\u001b[33mcoactivelearning\u001b[0m) to \u001b[32mhttps://api.wandb.ai\u001b[0m. Use \u001b[1m`wandb login --relogin`\u001b[0m to force relogin\n",
      "\u001b[34m\u001b[1mwandb\u001b[0m: Tracking run with wandb version 0.20.1\n",
      "\u001b[34m\u001b[1mwandb\u001b[0m: Run data is saved locally in \u001b[35m\u001b[1m/home/will/important/Triton/SFCA/experiments/training/wandb/run-20250606_215846-e2qcy8ai\u001b[0m\n",
      "\u001b[34m\u001b[1mwandb\u001b[0m: Run \u001b[1m`wandb offline`\u001b[0m to turn off syncing.\n",
      "\u001b[34m\u001b[1mwandb\u001b[0m: Syncing run \u001b[33mdeft-feather-18\u001b[0m\n",
      "\u001b[34m\u001b[1mwandb\u001b[0m: ⭐️ View project at \u001b[34m\u001b[4mhttps://wandb.ai/coactivelearning/lm-eval-harness-integration\u001b[0m\n",
      "\u001b[34m\u001b[1mwandb\u001b[0m: 🚀 View run at \u001b[34m\u001b[4mhttps://wandb.ai/coactivelearning/lm-eval-harness-integration/runs/e2qcy8ai\u001b[0m\n",
      "2025-06-06:21:58:51 INFO     [__main__:440] Selected Tasks: ['arc_easy', 'boolq', 'hellaswag', 'lambada_openai', 'mmlu_abstract_algebra', 'piqa', 'winogrande']\n",
      "2025-06-06:21:58:51 INFO     [evaluator:185] Setting random seed to 0 | Setting numpy seed to 1234 | Setting torch manual seed to 1234 | Setting fewshot manual seed to 1234\n",
      "2025-06-06:21:58:51 INFO     [evaluator:223] Initializing hf model, with arguments: {'pretrained': 'checkpoints/hash_model_learnable'}\n",
      "2025-06-06:21:58:52 INFO     [models.huggingface:137] Using device 'cuda:1'\n",
      "2025-06-06:21:58:52 INFO     [models.huggingface:382] Model parallel was set to False, max memory was not set, and device map was set to {'': 'cuda:1'}\n",
      "Some weights of the model checkpoint at checkpoints/hash_model_learnable were not used when initializing LlamaForCausalLM: ['model.layers.0.self_attn.vector_hash.R']\n",
      "- This IS expected if you are initializing LlamaForCausalLM from the checkpoint of a model trained on another task or with another architecture (e.g. initializing a BertForSequenceClassification model from a BertForPreTraining model).\n",
      "- This IS NOT expected if you are initializing LlamaForCausalLM from the checkpoint of a model that you expect to be exactly identical (initializing a BertForSequenceClassification model from a BertForSequenceClassification model).\n",
      "2025-06-06:21:59:04 WARNING  [api.task:844] [Task: boolq] metric acc is defined, but aggregation is not. using default aggregation=mean\n",
      "2025-06-06:21:59:04 WARNING  [api.task:856] [Task: boolq] metric acc is defined, but higher_is_better is not. using default higher_is_better=True\n",
      "2025-06-06:21:59:18 INFO     [api.task:434] Building contexts for winogrande on rank 0...\n",
      "100%|███████████████████████████████████| 1267/1267 [00:00<00:00, 179333.28it/s]\n",
      "2025-06-06:21:59:18 INFO     [api.task:434] Building contexts for piqa on rank 0...\n",
      "100%|█████████████████████████████████████| 1838/1838 [00:00<00:00, 1903.60it/s]\n",
      "2025-06-06:21:59:19 INFO     [api.task:434] Building contexts for mmlu_abstract_algebra on rank 0...\n",
      "100%|███████████████████████████████████████| 100/100 [00:00<00:00, 1127.64it/s]\n",
      "2025-06-06:21:59:19 INFO     [api.task:434] Building contexts for lambada_openai on rank 0...\n",
      "100%|██████████████████████████████████████| 5153/5153 [00:05<00:00, 994.55it/s]\n",
      "2025-06-06:21:59:24 INFO     [api.task:434] Building contexts for hellaswag on rank 0...\n",
      "100%|███████████████████████████████████| 10042/10042 [00:02<00:00, 4251.62it/s]\n",
      "2025-06-06:21:59:27 INFO     [api.task:434] Building contexts for boolq on rank 0...\n",
      "100%|█████████████████████████████████████| 3270/3270 [00:00<00:00, 3453.71it/s]\n",
      "2025-06-06:21:59:28 INFO     [api.task:434] Building contexts for arc_easy on rank 0...\n",
      "100%|█████████████████████████████████████| 2376/2376 [00:01<00:00, 1960.56it/s]\n",
      "2025-06-06:21:59:30 INFO     [evaluator:555] Running loglikelihood requests\n",
      "Running loglikelihood requests:   0%|                 | 0/67972 [00:00<?, ?it/s]Passed argument batch_size = auto:8.0. Detecting largest batch size\n",
      "Determined largest batch size: 16\n",
      "Running loglikelihood requests:  15%|▋    | 9998/67972 [01:02<05:22, 179.80it/s]Passed argument batch_size = auto:8.0. Detecting largest batch size\n",
      "Determined largest batch size: 64\n",
      "Running loglikelihood requests: 100%|████| 67972/67972 [03:47<00:00, 299.33it/s]\n",
      "bootstrapping for stddev: perplexity\n",
      "100%|█████████████████████████████████████████| 100/100 [00:02<00:00, 48.86it/s]\n",
      "2025-06-06:22:03:55 INFO     [loggers.evaluation_tracker:209] Saving results aggregated\n",
      "2025-06-06:22:03:55 INFO     [loggers.evaluation_tracker:298] Saving per-sample results for: arc_easy\n",
      "2025-06-06:22:04:01 INFO     [loggers.evaluation_tracker:298] Saving per-sample results for: boolq\n",
      "2025-06-06:22:04:11 INFO     [loggers.evaluation_tracker:298] Saving per-sample results for: hellaswag\n",
      "2025-06-06:22:04:42 INFO     [loggers.evaluation_tracker:298] Saving per-sample results for: lambada_openai\n",
      "2025-06-06:22:04:54 INFO     [loggers.evaluation_tracker:298] Saving per-sample results for: mmlu_abstract_algebra\n",
      "2025-06-06:22:04:54 INFO     [loggers.evaluation_tracker:298] Saving per-sample results for: piqa\n",
      "2025-06-06:22:04:59 INFO     [loggers.evaluation_tracker:298] Saving per-sample results for: winogrande\n",
      "hf (pretrained=checkpoints/hash_model_learnable), gen_kwargs: (None), limit: None, num_fewshot: None, batch_size: auto:8 (16,64,64,64,64,64,64,64,64)\n",
      "|     Tasks      |Version|Filter|n-shot|  Metric  |   |  Value  |   | Stderr |\n",
      "|----------------|------:|------|-----:|----------|---|--------:|---|-------:|\n",
      "|arc_easy        |      1|none  |     0|acc       |↑  |   0.2946|±  |  0.0094|\n",
      "|                |       |none  |     0|acc_norm  |↑  |   0.2900|±  |  0.0093|\n",
      "|boolq           |      2|none  |     0|acc       |↑  |   0.4654|±  |  0.0087|\n",
      "|hellaswag       |      1|none  |     0|acc       |↑  |   0.2983|±  |  0.0046|\n",
      "|                |       |none  |     0|acc_norm  |↑  |   0.3282|±  |  0.0047|\n",
      "|lambada_openai  |      1|none  |     0|acc       |↑  |   0.1958|±  |  0.0055|\n",
      "|                |       |none  |     0|perplexity|↓  |1859.8136|±  |143.6249|\n",
      "|abstract_algebra|      1|none  |     0|acc       |↑  |   0.2300|±  |  0.0423|\n",
      "|piqa            |      1|none  |     0|acc       |↑  |   0.5528|±  |  0.0116|\n",
      "|                |       |none  |     0|acc_norm  |↑  |   0.5207|±  |  0.0117|\n",
      "|winogrande      |      1|none  |     0|acc       |↑  |   0.5328|±  |  0.0140|\n",
      "\n",
      "\u001b[34m\u001b[1mwandb\u001b[0m:                                                                                \n",
      "\u001b[34m\u001b[1mwandb\u001b[0m: \n",
      "\u001b[34m\u001b[1mwandb\u001b[0m: Run history:\n",
      "\u001b[34m\u001b[1mwandb\u001b[0m:                     arc_easy/acc ▁\n",
      "\u001b[34m\u001b[1mwandb\u001b[0m:                arc_easy/acc_norm ▁\n",
      "\u001b[34m\u001b[1mwandb\u001b[0m:         arc_easy/acc_norm_stderr ▁\n",
      "\u001b[34m\u001b[1mwandb\u001b[0m:              arc_easy/acc_stderr ▁\n",
      "\u001b[34m\u001b[1mwandb\u001b[0m:                        boolq/acc ▁\n",
      "\u001b[34m\u001b[1mwandb\u001b[0m:                 boolq/acc_stderr ▁\n",
      "\u001b[34m\u001b[1mwandb\u001b[0m:                    hellaswag/acc ▁\n",
      "\u001b[34m\u001b[1mwandb\u001b[0m:               hellaswag/acc_norm ▁\n",
      "\u001b[34m\u001b[1mwandb\u001b[0m:        hellaswag/acc_norm_stderr ▁\n",
      "\u001b[34m\u001b[1mwandb\u001b[0m:             hellaswag/acc_stderr ▁\n",
      "\u001b[34m\u001b[1mwandb\u001b[0m:               lambada_openai/acc ▁\n",
      "\u001b[34m\u001b[1mwandb\u001b[0m:        lambada_openai/acc_stderr ▁\n",
      "\u001b[34m\u001b[1mwandb\u001b[0m:        lambada_openai/perplexity ▁\n",
      "\u001b[34m\u001b[1mwandb\u001b[0m: lambada_openai/perplexity_stderr ▁\n",
      "\u001b[34m\u001b[1mwandb\u001b[0m:        mmlu_abstract_algebra/acc ▁\n",
      "\u001b[34m\u001b[1mwandb\u001b[0m: mmlu_abstract_algebra/acc_stderr ▁\n",
      "\u001b[34m\u001b[1mwandb\u001b[0m:                         piqa/acc ▁\n",
      "\u001b[34m\u001b[1mwandb\u001b[0m:                    piqa/acc_norm ▁\n",
      "\u001b[34m\u001b[1mwandb\u001b[0m:             piqa/acc_norm_stderr ▁\n",
      "\u001b[34m\u001b[1mwandb\u001b[0m:                  piqa/acc_stderr ▁\n",
      "\u001b[34m\u001b[1mwandb\u001b[0m:                   winogrande/acc ▁\n",
      "\u001b[34m\u001b[1mwandb\u001b[0m:            winogrande/acc_stderr ▁\n",
      "\u001b[34m\u001b[1mwandb\u001b[0m: \n",
      "\u001b[34m\u001b[1mwandb\u001b[0m: Run summary:\n",
      "\u001b[34m\u001b[1mwandb\u001b[0m:                     arc_easy/acc 0.29461\n",
      "\u001b[34m\u001b[1mwandb\u001b[0m:                arc_easy/acc_norm 0.28998\n",
      "\u001b[34m\u001b[1mwandb\u001b[0m:         arc_easy/acc_norm_stderr 0.00931\n",
      "\u001b[34m\u001b[1mwandb\u001b[0m:              arc_easy/acc_stderr 0.00935\n",
      "\u001b[34m\u001b[1mwandb\u001b[0m:                   arc_easy/alias arc_easy\n",
      "\u001b[34m\u001b[1mwandb\u001b[0m:                        boolq/acc 0.46544\n",
      "\u001b[34m\u001b[1mwandb\u001b[0m:                 boolq/acc_stderr 0.00872\n",
      "\u001b[34m\u001b[1mwandb\u001b[0m:                      boolq/alias boolq\n",
      "\u001b[34m\u001b[1mwandb\u001b[0m:                    hellaswag/acc 0.29835\n",
      "\u001b[34m\u001b[1mwandb\u001b[0m:               hellaswag/acc_norm 0.32822\n",
      "\u001b[34m\u001b[1mwandb\u001b[0m:        hellaswag/acc_norm_stderr 0.00469\n",
      "\u001b[34m\u001b[1mwandb\u001b[0m:             hellaswag/acc_stderr 0.00457\n",
      "\u001b[34m\u001b[1mwandb\u001b[0m:                  hellaswag/alias hellaswag\n",
      "\u001b[34m\u001b[1mwandb\u001b[0m:               lambada_openai/acc 0.19581\n",
      "\u001b[34m\u001b[1mwandb\u001b[0m:        lambada_openai/acc_stderr 0.00553\n",
      "\u001b[34m\u001b[1mwandb\u001b[0m:             lambada_openai/alias lambada_openai\n",
      "\u001b[34m\u001b[1mwandb\u001b[0m:        lambada_openai/perplexity 1859.81363\n",
      "\u001b[34m\u001b[1mwandb\u001b[0m: lambada_openai/perplexity_stderr 143.62486\n",
      "\u001b[34m\u001b[1mwandb\u001b[0m:        mmlu_abstract_algebra/acc 0.23\n",
      "\u001b[34m\u001b[1mwandb\u001b[0m: mmlu_abstract_algebra/acc_stderr 0.0423\n",
      "\u001b[34m\u001b[1mwandb\u001b[0m:      mmlu_abstract_algebra/alias abstract_algebra\n",
      "\u001b[34m\u001b[1mwandb\u001b[0m:                         piqa/acc 0.55277\n",
      "\u001b[34m\u001b[1mwandb\u001b[0m:                    piqa/acc_norm 0.52067\n",
      "\u001b[34m\u001b[1mwandb\u001b[0m:             piqa/acc_norm_stderr 0.01166\n",
      "\u001b[34m\u001b[1mwandb\u001b[0m:                  piqa/acc_stderr 0.0116\n",
      "\u001b[34m\u001b[1mwandb\u001b[0m:                       piqa/alias piqa\n",
      "\u001b[34m\u001b[1mwandb\u001b[0m:                   winogrande/acc 0.53275\n",
      "\u001b[34m\u001b[1mwandb\u001b[0m:            winogrande/acc_stderr 0.01402\n",
      "\u001b[34m\u001b[1mwandb\u001b[0m:                 winogrande/alias winogrande\n",
      "\u001b[34m\u001b[1mwandb\u001b[0m: \n",
      "\u001b[34m\u001b[1mwandb\u001b[0m: 🚀 View run \u001b[33mdeft-feather-18\u001b[0m at: \u001b[34m\u001b[4mhttps://wandb.ai/coactivelearning/lm-eval-harness-integration/runs/e2qcy8ai\u001b[0m\n",
      "\u001b[34m\u001b[1mwandb\u001b[0m: ⭐️ View project at: \u001b[34m\u001b[4mhttps://wandb.ai/coactivelearning/lm-eval-harness-integration\u001b[0m\n",
      "\u001b[34m\u001b[1mwandb\u001b[0m: Synced 5 W&B file(s), 8 media file(s), 32 artifact file(s) and 0 other file(s)\n",
      "\u001b[34m\u001b[1mwandb\u001b[0m: Find logs at: \u001b[35m\u001b[1m./wandb/run-20250606_215846-e2qcy8ai/logs\u001b[0m\n"
     ]
    }
   ],
   "source": [
    "!lm_eval --model hf \\\n",
    "    --model_args pretrained='checkpoints/hash_model_learnable' \\\n",
    "    --tasks lambada_openai,hellaswag,piqa,boolq,winogrande,arc_easy,mmlu_abstract_algebra \\\n",
    "    --device cuda:1 \\\n",
    "    --batch_size auto:8 \\\n",
    "    --wandb_args project=lm-eval-harness-integration \\\n",
    "    --output_path eval_results \\\n",
    "    --log_samples"
   ]
  },
  {
   "cell_type": "code",
   "execution_count": null,
   "metadata": {},
   "outputs": [],
   "source": []
  }
 ],
 "metadata": {
  "kernelspec": {
   "display_name": ".venv",
   "language": "python",
   "name": "python3"
  },
  "language_info": {
   "codemirror_mode": {
    "name": "ipython",
    "version": 3
   },
   "file_extension": ".py",
   "mimetype": "text/x-python",
   "name": "python",
   "nbconvert_exporter": "python",
   "pygments_lexer": "ipython3",
   "version": "3.12.3"
  }
 },
 "nbformat": 4,
 "nbformat_minor": 2
}
