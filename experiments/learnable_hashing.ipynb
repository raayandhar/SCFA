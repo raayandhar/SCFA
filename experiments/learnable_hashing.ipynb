{
 "cells": [
  {
   "cell_type": "markdown",
   "metadata": {},
   "source": [
    "## What if we make the random projection hashable?\n",
    "\n",
    "Inspired by [HashAttention: Semantic Sparsity for Faster Inference](https://arxiv.org/pdf/2412.14468) by Aditya Desai et al.\n",
    "### Random hashing:\n",
    "\n",
    "We hash $Q$ and $K$ into $B$ buckets by using a random matrix $R \\in \\mathbb{R}^{d \\times b/2}$ and taking $\\argmax([xR; −xR])$. As per the Johnson-Lindenstrauss lemma, this maps $Q$ and $K$ into a $b/2$-dimensional space in a relative-distance preserving way.\n",
    "\n",
    "Effectively, our vector $\\vec{x} \\in \\mathbb{R}^d$ is projected to hash vector $\\vec{x}_h \\in \\mathbb{R}^{b/2}$, and we take its dimension with the largest component as the hash index.\n",
    "\n",
    "### Learnable hashing:\n",
    "\n",
    "The model can learn its own hash functions that cluster together attendant queries/keys based on semantic similarity rather than vector distance (e.g this does processing work). We want to encourage two things:\n",
    "1. Downstream performance\n",
    "2. Balancing loss (to prevent degenerate solutions where all q/ks are mapped to the same hash index)\n",
    "    a. Entropy regularization?\n",
    "    b. Regularization on projection matrix (L1) to prevent one dim from dominating?"
   ]
  },
  {
   "cell_type": "code",
   "execution_count": null,
   "metadata": {},
   "outputs": [],
   "source": [
    "import torch\n",
    "from torch.nn import functional as F\n"
   ]
  },
  {
   "cell_type": "code",
   "execution_count": null,
   "metadata": {},
   "outputs": [],
   "source": [
    "def vector_hash_fn(x: torch.Tensor, num_buckets: int, R: torch.Tensor) -> torch.Tensor:\n",
    "    \"\"\"\n",
    "    x: (..., D)\n",
    "    R: (D, b/2)\n",
    "    \"\"\"\n",
    "    D = x.shape[-1]\n",
    "    assert R.shape == (D, num_buckets // 2)\n",
    "    return torch.argmax(torch.cat([x @ R, -x @ R], dim=-1), dim=-1)\n",
    "\n",
    "def get_vector_hash(D: int, num_buckets: int, device: torch.device = \"cpu\", dtype: torch.dtype = torch.bfloat16) -> torch.Tensor:\n",
    "    R = torch.randn(D, num_buckets // 2, device = device, dtype = dtype)\n",
    "    return lambda x: vector_hash_fn(x, num_buckets, R)\n",
    "\n",
    "vector_hash = get_vector_hash(D = 10, num_buckets = 10)\n",
    "vector_hash(torch.randn(50, 10, dtype = torch.bfloat16))"
   ]
  }
 ],
 "metadata": {
  "kernelspec": {
   "display_name": ".venv",
   "language": "python",
   "name": "python3"
  },
  "language_info": {
   "name": "python",
   "version": "3.12.3"
  }
 },
 "nbformat": 4,
 "nbformat_minor": 2
}
